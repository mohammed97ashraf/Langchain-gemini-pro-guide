{
  "nbformat": 4,
  "nbformat_minor": 0,
  "metadata": {
    "colab": {
      "provenance": []
    },
    "kernelspec": {
      "name": "python3",
      "display_name": "Python 3"
    },
    "language_info": {
      "name": "python"
    }
  },
  "cells": [
    {
      "cell_type": "code",
      "execution_count": 1,
      "metadata": {
        "colab": {
          "base_uri": "https://localhost:8080/"
        },
        "id": "Ce4WEl0zOZBA",
        "outputId": "8badac9f-31c1-4296-d70f-ceb086dff52b"
      },
      "outputs": [
        {
          "output_type": "stream",
          "name": "stdout",
          "text": [
            "\u001b[?25l     \u001b[90m━━━━━━━━━━━━━━━━━━━━━━━━━━━━━━━━━━━━━━━━\u001b[0m \u001b[32m0.0/798.0 kB\u001b[0m \u001b[31m?\u001b[0m eta \u001b[36m-:--:--\u001b[0m\r\u001b[2K     \u001b[91m━━━━━\u001b[0m\u001b[91m╸\u001b[0m\u001b[90m━━━━━━━━━━━━━━━━━━━━━━━━━━━━━━━━━━\u001b[0m \u001b[32m112.6/798.0 kB\u001b[0m \u001b[31m3.1 MB/s\u001b[0m eta \u001b[36m0:00:01\u001b[0m\r\u001b[2K     \u001b[91m━━━━━━━━━━━━━━━━━━━━━━━━━━━━━━━━━━━━━━━\u001b[0m\u001b[91m╸\u001b[0m \u001b[32m788.5/798.0 kB\u001b[0m \u001b[31m13.3 MB/s\u001b[0m eta \u001b[36m0:00:01\u001b[0m\r\u001b[2K     \u001b[90m━━━━━━━━━━━━━━━━━━━━━━━━━━━━━━━━━━━━━━━━\u001b[0m \u001b[32m798.0/798.0 kB\u001b[0m \u001b[31m10.0 MB/s\u001b[0m eta \u001b[36m0:00:00\u001b[0m\n",
            "\u001b[2K     \u001b[90m━━━━━━━━━━━━━━━━━━━━━━━━━━━━━━━━━━━━━━━━\u001b[0m \u001b[32m216.6/216.6 kB\u001b[0m \u001b[31m14.8 MB/s\u001b[0m eta \u001b[36m0:00:00\u001b[0m\n",
            "\u001b[2K     \u001b[90m━━━━━━━━━━━━━━━━━━━━━━━━━━━━━━━━━━━━━━━━\u001b[0m \u001b[32m1.6/1.6 MB\u001b[0m \u001b[31m47.2 MB/s\u001b[0m eta \u001b[36m0:00:00\u001b[0m\n",
            "\u001b[2K     \u001b[90m━━━━━━━━━━━━━━━━━━━━━━━━━━━━━━━━━━━━━━━━\u001b[0m \u001b[32m48.3/48.3 kB\u001b[0m \u001b[31m4.8 MB/s\u001b[0m eta \u001b[36m0:00:00\u001b[0m\n",
            "\u001b[2K     \u001b[90m━━━━━━━━━━━━━━━━━━━━━━━━━━━━━━━━━━━━━━━━\u001b[0m \u001b[32m49.4/49.4 kB\u001b[0m \u001b[31m4.3 MB/s\u001b[0m eta \u001b[36m0:00:00\u001b[0m\n",
            "\u001b[?25h"
          ]
        }
      ],
      "source": [
        "!pip install -U --quiet langchain-google-genai  langchain"
      ]
    },
    {
      "cell_type": "code",
      "source": [
        "import getpass\n",
        "import os\n",
        "\n",
        "# Set Google AI Key\n",
        "os.environ[\"GOOGLE_API_KEY\"] = getpass.getpass(\"Provide your Google API Key\")"
      ],
      "metadata": {
        "colab": {
          "base_uri": "https://localhost:8080/"
        },
        "id": "5RHDOulTOwdU",
        "outputId": "d5a840f6-d6c4-4e1f-f43a-64be45ef2ef8"
      },
      "execution_count": 3,
      "outputs": [
        {
          "name": "stdout",
          "output_type": "stream",
          "text": [
            "Provide your Google API Key··········\n"
          ]
        }
      ]
    },
    {
      "cell_type": "markdown",
      "source": [
        "# Simple Example"
      ],
      "metadata": {
        "id": "26EA5DarPqGk"
      }
    },
    {
      "cell_type": "code",
      "source": [
        "from langchain_google_genai import ChatGoogleGenerativeAI"
      ],
      "metadata": {
        "id": "5-rhTU3ZPUcN"
      },
      "execution_count": 4,
      "outputs": []
    },
    {
      "cell_type": "code",
      "source": [
        "# setup the gemini pro\n",
        "gemini_llm = ChatGoogleGenerativeAI(model=\"gemini-pro\",temperature=0.3)"
      ],
      "metadata": {
        "id": "AMK5SclwPv2d"
      },
      "execution_count": 6,
      "outputs": []
    },
    {
      "cell_type": "code",
      "source": [
        "result = gemini_llm.invoke(\"what is google vertex ai?\")\n",
        "print(result.content)"
      ],
      "metadata": {
        "colab": {
          "base_uri": "https://localhost:8080/"
        },
        "id": "OAVp7n7RQC_G",
        "outputId": "e1916da3-1abd-4d53-a9c3-b7b816b89e4c"
      },
      "execution_count": 7,
      "outputs": [
        {
          "output_type": "stream",
          "name": "stdout",
          "text": [
            "Google Vertex AI is a managed machine learning platform that provides a unified experience for developing, deploying, and managing machine learning models. It offers a wide range of tools and services to help users build and deploy models quickly and easily, including:\n",
            "\n",
            "* **AutoML:** A set of pre-built machine learning models that can be used for common tasks such as image classification, object detection, and natural language processing.\n",
            "* **BigQuery ML:** A library of machine learning algorithms that can be used to train models on data stored in BigQuery.\n",
            "* **Cloud AI Platform Notebooks:** A cloud-based Jupyter notebook environment for developing and experimenting with machine learning models.\n",
            "* **Cloud AI Platform Pipelines:** A service for creating and managing machine learning pipelines.\n",
            "* **Cloud AI Platform Prediction:** A service for deploying and serving machine learning models.\n",
            "* **Cloud AI Platform Training:** A service for training machine learning models.\n",
            "\n",
            "Vertex AI is designed to be easy to use, even for users with limited machine learning experience. It provides a graphical user interface (GUI) that makes it easy to create and manage machine learning projects, and it offers a variety of documentation and tutorials to help users get started.\n",
            "\n",
            "Vertex AI is also a scalable platform that can be used to train and deploy models on a variety of hardware, including CPUs, GPUs, and TPUs. This makes it a good choice for users who need to train large models or who want to deploy models to production at scale.\n",
            "\n",
            "Overall, Vertex AI is a powerful and easy-to-use machine learning platform that can be used to build and deploy models for a wide range of tasks. It is a good choice for users of all skill levels, and it is scalable enough to meet the needs of even the most demanding machine learning applications.\n"
          ]
        }
      ]
    },
    {
      "cell_type": "markdown",
      "source": [
        "# Example With Prompt Template\n"
      ],
      "metadata": {
        "id": "it62rd8MQjee"
      }
    },
    {
      "cell_type": "code",
      "source": [
        "from langchain_core.messages import HumanMessage, SystemMessage\n",
        "from langchain.prompts import ChatPromptTemplate\n",
        "from langchain.prompts import HumanMessagePromptTemplate"
      ],
      "metadata": {
        "id": "Os2akav7QpFV"
      },
      "execution_count": 10,
      "outputs": []
    },
    {
      "cell_type": "markdown",
      "source": [
        "**Gemini doesn’t support SystemMessage at the moment, but it can be added to the first human message in the row.**"
      ],
      "metadata": {
        "id": "ajekCtnMQvKF"
      }
    },
    {
      "cell_type": "code",
      "source": [
        "chat_template = ChatPromptTemplate.from_messages(\n",
        "    [\n",
        "        SystemMessage(\n",
        "            content=(\n",
        "                \"return the sentiment for the given text in json fromat the sentiment value can be 'nagative','positive'\"\n",
        "            )\n",
        "        ),\n",
        "        HumanMessagePromptTemplate.from_template(\"{text}\"),\n",
        "    ]\n",
        ")\n"
      ],
      "metadata": {
        "id": "wj-UFJkHQumd"
      },
      "execution_count": 11,
      "outputs": []
    },
    {
      "cell_type": "code",
      "source": [
        "chat_message =  chat_template.format_messages(text=\"i don' like weather today.\")"
      ],
      "metadata": {
        "id": "GJDw3FHASV6u"
      },
      "execution_count": 12,
      "outputs": []
    },
    {
      "cell_type": "code",
      "source": [
        "llm = ChatGoogleGenerativeAI(model=\"gemini-pro\",\n",
        "                             temperature=0.3, convert_system_message_to_human=True) # set the convert_system_message_to_human to true"
      ],
      "metadata": {
        "id": "j45nfHEzSxSt"
      },
      "execution_count": 14,
      "outputs": []
    },
    {
      "cell_type": "code",
      "source": [
        "llm.invoke(chat_message)"
      ],
      "metadata": {
        "colab": {
          "base_uri": "https://localhost:8080/"
        },
        "id": "czrS2bBiSkge",
        "outputId": "fc07d888-daac-4b90-bb3e-4f06634eb178"
      },
      "execution_count": 16,
      "outputs": [
        {
          "output_type": "execute_result",
          "data": {
            "text/plain": [
              "AIMessage(content='```json\\n{\\n  \"sentiment\": \"negative\"\\n}\\n```')"
            ]
          },
          "metadata": {},
          "execution_count": 16
        }
      ]
    },
    {
      "cell_type": "markdown",
      "source": [
        "# Use Output parser to get formated output"
      ],
      "metadata": {
        "id": "F3beGee1TAdH"
      }
    },
    {
      "cell_type": "code",
      "source": [
        "from langchain_core.output_parsers import JsonOutputParser"
      ],
      "metadata": {
        "id": "nFyt4LJ2Sq3F"
      },
      "execution_count": 17,
      "outputs": []
    },
    {
      "cell_type": "code",
      "source": [
        "parser = JsonOutputParser()"
      ],
      "metadata": {
        "id": "NDZw_qNETZFl"
      },
      "execution_count": 18,
      "outputs": []
    },
    {
      "cell_type": "code",
      "source": [
        "chain =  llm | parser"
      ],
      "metadata": {
        "id": "H3O9l3JDTcSt"
      },
      "execution_count": 19,
      "outputs": []
    },
    {
      "cell_type": "code",
      "source": [
        "chat_message"
      ],
      "metadata": {
        "colab": {
          "base_uri": "https://localhost:8080/"
        },
        "id": "rUqKqdz6TeRu",
        "outputId": "10416e85-b150-4e03-9199-31edf79d007d"
      },
      "execution_count": 20,
      "outputs": [
        {
          "output_type": "execute_result",
          "data": {
            "text/plain": [
              "[SystemMessage(content=\"return the sentiment for the given text in json fromat the sentiment value can be 'nagative','positive'\"),\n",
              " HumanMessage(content=\"i don' like weather today.\")]"
            ]
          },
          "metadata": {},
          "execution_count": 20
        }
      ]
    },
    {
      "cell_type": "code",
      "source": [
        "sentiment = chain.invoke(chat_message)\n",
        "print(sentiment)"
      ],
      "metadata": {
        "colab": {
          "base_uri": "https://localhost:8080/"
        },
        "id": "7RNkc5m1Tk_G",
        "outputId": "c0a49487-0032-4375-d767-7742c033d65f"
      },
      "execution_count": 22,
      "outputs": [
        {
          "output_type": "stream",
          "name": "stdout",
          "text": [
            "{'sentiment': 'negative'}\n"
          ]
        }
      ]
    },
    {
      "cell_type": "markdown",
      "source": [
        "# Tagging Chain with Gemini Pro"
      ],
      "metadata": {
        "id": "MWkYR5lLU-BR"
      }
    },
    {
      "cell_type": "code",
      "source": [
        "from typing import List\n",
        "\n",
        "from langchain.output_parsers import PydanticOutputParser\n",
        "from langchain.prompts import PromptTemplate\n",
        "from langchain_core.pydantic_v1 import BaseModel, Field, validator"
      ],
      "metadata": {
        "id": "Ztx93LcLVKxG"
      },
      "execution_count": 31,
      "outputs": []
    },
    {
      "cell_type": "code",
      "source": [
        "class Tags(BaseModel):\n",
        "    sentiment: str = Field(..., enum=[\"happy\", \"neutral\", \"sad\"])\n",
        "    aggressiveness: int = Field(\n",
        "        ...,\n",
        "        description=\"describes how aggressive the statement is, the higher the number the more aggressive\",\n",
        "        enum=[1, 2, 3, 4, 5],\n",
        "    )\n",
        "    language: str = Field(\n",
        "        ..., enum=[\"spanish\", \"english\", \"french\", \"german\", \"italian\"]\n",
        "    )"
      ],
      "metadata": {
        "id": "Erh-e2PcVMQ3"
      },
      "execution_count": 24,
      "outputs": []
    },
    {
      "cell_type": "code",
      "source": [
        "# Set up a parser + inject instructions into the prompt template.\n",
        "parser = PydanticOutputParser(pydantic_object=Tags)"
      ],
      "metadata": {
        "id": "8EinY2v8VnB9"
      },
      "execution_count": 32,
      "outputs": []
    },
    {
      "cell_type": "code",
      "source": [
        "prompt = PromptTemplate(\n",
        "    template=\"Answer the user query.\\n{format_instructions}\\n{query}\\n\",\n",
        "    input_variables=[\"query\"],\n",
        "    partial_variables={\"format_instructions\": parser.get_format_instructions()},\n",
        ")"
      ],
      "metadata": {
        "id": "7EB0VZV_WGq9"
      },
      "execution_count": 33,
      "outputs": []
    },
    {
      "cell_type": "code",
      "source": [
        "chain = prompt | llm | parser\n",
        "\n",
        "chain.invoke({\"query\": \"i don' like weather today.\"})"
      ],
      "metadata": {
        "colab": {
          "base_uri": "https://localhost:8080/"
        },
        "id": "Pssnb8F5WgP2",
        "outputId": "823ccf5d-3922-412f-dc74-190dbdbb2584"
      },
      "execution_count": 34,
      "outputs": [
        {
          "output_type": "execute_result",
          "data": {
            "text/plain": [
              "Tags(sentiment='sad', aggressiveness=2, language='english')"
            ]
          },
          "metadata": {},
          "execution_count": 34
        }
      ]
    },
    {
      "cell_type": "markdown",
      "source": [
        "# Create a Conversational chain with Gemini pro"
      ],
      "metadata": {
        "id": "8HVmgE1FWspG"
      }
    },
    {
      "cell_type": "code",
      "source": [
        "from langchain.chains import ConversationChain\n",
        "from langchain.memory import ConversationBufferMemory"
      ],
      "metadata": {
        "id": "QaCqX7wXWu5d"
      },
      "execution_count": 37,
      "outputs": []
    },
    {
      "cell_type": "code",
      "source": [
        "conversation = ConversationChain(\n",
        "    llm=llm,\n",
        "    verbose=True,\n",
        "    memory=ConversationBufferMemory()\n",
        ")"
      ],
      "metadata": {
        "id": "nwFSCOzjX2Fu"
      },
      "execution_count": 38,
      "outputs": []
    },
    {
      "cell_type": "code",
      "source": [
        "conversation.predict(input=\"Hi there!\")"
      ],
      "metadata": {
        "colab": {
          "base_uri": "https://localhost:8080/",
          "height": 258
        },
        "id": "rCYhChsDX_IG",
        "outputId": "533af46a-ff07-4de2-840d-40746d1102dc"
      },
      "execution_count": 39,
      "outputs": [
        {
          "output_type": "stream",
          "name": "stdout",
          "text": [
            "\n",
            "\n",
            "\u001b[1m> Entering new ConversationChain chain...\u001b[0m\n",
            "Prompt after formatting:\n",
            "\u001b[32;1m\u001b[1;3mThe following is a friendly conversation between a human and an AI. The AI is talkative and provides lots of specific details from its context. If the AI does not know the answer to a question, it truthfully says it does not know.\n",
            "\n",
            "Current conversation:\n",
            "\n",
            "Human: Hi there!\n",
            "AI:\u001b[0m\n",
            "\n",
            "\u001b[1m> Finished chain.\u001b[0m\n"
          ]
        },
        {
          "output_type": "execute_result",
          "data": {
            "text/plain": [
              "'Hello! How may I assist you today?'"
            ],
            "application/vnd.google.colaboratory.intrinsic+json": {
              "type": "string"
            }
          },
          "metadata": {},
          "execution_count": 39
        }
      ]
    },
    {
      "cell_type": "code",
      "source": [
        "conversation.predict(input=\"I'm doing well! Just having a conversation with an AI.\")"
      ],
      "metadata": {
        "colab": {
          "base_uri": "https://localhost:8080/",
          "height": 276
        },
        "id": "t69lsHMJYC2G",
        "outputId": "11b8eea4-c150-4ddf-f827-c6e20856816e"
      },
      "execution_count": 40,
      "outputs": [
        {
          "output_type": "stream",
          "name": "stdout",
          "text": [
            "\n",
            "\n",
            "\u001b[1m> Entering new ConversationChain chain...\u001b[0m\n",
            "Prompt after formatting:\n",
            "\u001b[32;1m\u001b[1;3mThe following is a friendly conversation between a human and an AI. The AI is talkative and provides lots of specific details from its context. If the AI does not know the answer to a question, it truthfully says it does not know.\n",
            "\n",
            "Current conversation:\n",
            "Human: Hi there!\n",
            "AI: Hello! How may I assist you today?\n",
            "Human: I'm doing well! Just having a conversation with an AI.\n",
            "AI:\u001b[0m\n",
            "\n",
            "\u001b[1m> Finished chain.\u001b[0m\n"
          ]
        },
        {
          "output_type": "execute_result",
          "data": {
            "text/plain": [
              "\"That's great to hear! I'm glad you're having a good time. I'm always happy to chat with people and learn new things. What do you like to talk about?\""
            ],
            "application/vnd.google.colaboratory.intrinsic+json": {
              "type": "string"
            }
          },
          "metadata": {},
          "execution_count": 40
        }
      ]
    },
    {
      "cell_type": "markdown",
      "source": [
        "Adding a coustom prompt to the conversationchain"
      ],
      "metadata": {
        "id": "GNr60PETYGNX"
      }
    },
    {
      "cell_type": "code",
      "source": [
        "PROMPT_TEMPLATE = \"\"\"The following is a friendly conversation between a human and an AI. The AI is talkative and provides lots of specific details from its context. If the AI does not know the answer to a question, it truthfully says it does not know.\n",
        "\n",
        "Current conversation:\n",
        "{history}\n",
        "Human: {input}\n",
        "AI Assistant:\n",
        "\"\"\"\n",
        "\n",
        "PROMPT = PromptTemplate(\n",
        "    input_variables=[\"history\", \"input\"], template=PROMPT_TEMPLATE\n",
        ")"
      ],
      "metadata": {
        "id": "luTwHagtYGhm"
      },
      "execution_count": 45,
      "outputs": []
    },
    {
      "cell_type": "code",
      "source": [
        "conversation = ConversationChain(\n",
        "    llm=llm,\n",
        "    verbose=True,\n",
        "    prompt=PROMPT,\n",
        "    memory=ConversationBufferMemory(ai_prefix=\"AI Assistant\")\n",
        ")"
      ],
      "metadata": {
        "id": "VIXqBQo7YTKe"
      },
      "execution_count": 46,
      "outputs": []
    },
    {
      "cell_type": "code",
      "source": [
        "conversation.predict(input=\"who is Gojo?\")"
      ],
      "metadata": {
        "colab": {
          "base_uri": "https://localhost:8080/",
          "height": 331
        },
        "id": "kT2g7IvfYVYd",
        "outputId": "56e43eb8-df88-479a-f897-ae707d78c93a"
      },
      "execution_count": 47,
      "outputs": [
        {
          "output_type": "stream",
          "name": "stdout",
          "text": [
            "\n",
            "\n",
            "\u001b[1m> Entering new ConversationChain chain...\u001b[0m\n",
            "Prompt after formatting:\n",
            "\u001b[32;1m\u001b[1;3mThe following is a friendly conversation between a human and an AI. The AI is talkative and provides lots of specific details from its context. If the AI does not know the answer to a question, it truthfully says it does not know.\n",
            "\n",
            "Current conversation:\n",
            "\n",
            "Human: who is Gojo?\n",
            "AI Assistant:\n",
            "\u001b[0m\n",
            "\n",
            "\u001b[1m> Finished chain.\u001b[0m\n"
          ]
        },
        {
          "output_type": "execute_result",
          "data": {
            "text/plain": [
              "'Gojo Satoru is a character in the popular manga and anime series Jujutsu Kaisen. He is a powerful jujutsu sorcerer and a teacher at Tokyo Jujutsu High. Gojo is known for his eccentric personality, his immense strength, and his unique appearance, which includes white hair and blue eyes. He is also a skilled swordsman and hand-to-hand combatant.\\n\\nGojo is a complex and enigmatic character. He is often portrayed as aloof and carefree, but he also has a deep sense of justice and compassion. He is fiercely loyal to his students and friends, and he is always willing to fight for what he believes in.\\n\\nGojo is one of the most popular characters in Jujutsu Kaisen, and he has been praised for his unique design, his powerful abilities, and his complex personality. He is a fan favorite, and he is sure to continue to be a popular character for years to come.'"
            ],
            "application/vnd.google.colaboratory.intrinsic+json": {
              "type": "string"
            }
          },
          "metadata": {},
          "execution_count": 47
        }
      ]
    },
    {
      "cell_type": "code",
      "source": [
        "conversation.predict(input=\"What is his power?\")"
      ],
      "metadata": {
        "colab": {
          "base_uri": "https://localhost:8080/",
          "height": 444
        },
        "id": "XtwAm67rYpnW",
        "outputId": "d8cbe9fb-57ca-4a07-ca41-19d30392a230"
      },
      "execution_count": 48,
      "outputs": [
        {
          "output_type": "stream",
          "name": "stdout",
          "text": [
            "\n",
            "\n",
            "\u001b[1m> Entering new ConversationChain chain...\u001b[0m\n",
            "Prompt after formatting:\n",
            "\u001b[32;1m\u001b[1;3mThe following is a friendly conversation between a human and an AI. The AI is talkative and provides lots of specific details from its context. If the AI does not know the answer to a question, it truthfully says it does not know.\n",
            "\n",
            "Current conversation:\n",
            "Human: who is Gojo?\n",
            "AI Assistant: Gojo Satoru is a character in the popular manga and anime series Jujutsu Kaisen. He is a powerful jujutsu sorcerer and a teacher at Tokyo Jujutsu High. Gojo is known for his eccentric personality, his immense strength, and his unique appearance, which includes white hair and blue eyes. He is also a skilled swordsman and hand-to-hand combatant.\n",
            "\n",
            "Gojo is a complex and enigmatic character. He is often portrayed as aloof and carefree, but he also has a deep sense of justice and compassion. He is fiercely loyal to his students and friends, and he is always willing to fight for what he believes in.\n",
            "\n",
            "Gojo is one of the most popular characters in Jujutsu Kaisen, and he has been praised for his unique design, his powerful abilities, and his complex personality. He is a fan favorite, and he is sure to continue to be a popular character for years to come.\n",
            "Human: What is his power?\n",
            "AI Assistant:\n",
            "\u001b[0m\n",
            "\n",
            "\u001b[1m> Finished chain.\u001b[0m\n"
          ]
        },
        {
          "output_type": "execute_result",
          "data": {
            "text/plain": [
              "'Gojo Satoru\\'s power is known as \"Limitless,\" and it is one of the strongest techniques in the Jujutsu Kaisen universe. Limitless allows Gojo to manipulate space and time around him, creating a variety of powerful effects.\\n\\nOne of the most notable aspects of Limitless is its ability to create an \"Infinity\" barrier around Gojo. This barrier is impenetrable, and it prevents any attacks from reaching him. Gojo can also use Limitless to teleport himself and others, and he can even use it to stop time for a brief period.\\n\\nIn addition to its defensive capabilities, Limitless also grants Gojo a number of offensive abilities. He can use it to fire powerful blasts of energy, and he can also create powerful shockwaves by clapping his hands. Gojo is also a skilled swordsman, and he can use Limitless to enhance his swordsmanship.\\n\\nOverall, Limitless is an incredibly versatile and powerful technique that makes Gojo one of the strongest characters in Jujutsu Kaisen.'"
            ],
            "application/vnd.google.colaboratory.intrinsic+json": {
              "type": "string"
            }
          },
          "metadata": {},
          "execution_count": 48
        }
      ]
    },
    {
      "cell_type": "code",
      "source": [
        "conversation.predict(input=\"what is his clan name?\")"
      ],
      "metadata": {
        "colab": {
          "base_uri": "https://localhost:8080/",
          "height": 573
        },
        "id": "MrSFEkeaZT71",
        "outputId": "f52f087f-d7b6-4906-d6cc-9e4f647eb462"
      },
      "execution_count": 49,
      "outputs": [
        {
          "output_type": "stream",
          "name": "stdout",
          "text": [
            "\n",
            "\n",
            "\u001b[1m> Entering new ConversationChain chain...\u001b[0m\n",
            "Prompt after formatting:\n",
            "\u001b[32;1m\u001b[1;3mThe following is a friendly conversation between a human and an AI. The AI is talkative and provides lots of specific details from its context. If the AI does not know the answer to a question, it truthfully says it does not know.\n",
            "\n",
            "Current conversation:\n",
            "Human: who is Gojo?\n",
            "AI Assistant: Gojo Satoru is a character in the popular manga and anime series Jujutsu Kaisen. He is a powerful jujutsu sorcerer and a teacher at Tokyo Jujutsu High. Gojo is known for his eccentric personality, his immense strength, and his unique appearance, which includes white hair and blue eyes. He is also a skilled swordsman and hand-to-hand combatant.\n",
            "\n",
            "Gojo is a complex and enigmatic character. He is often portrayed as aloof and carefree, but he also has a deep sense of justice and compassion. He is fiercely loyal to his students and friends, and he is always willing to fight for what he believes in.\n",
            "\n",
            "Gojo is one of the most popular characters in Jujutsu Kaisen, and he has been praised for his unique design, his powerful abilities, and his complex personality. He is a fan favorite, and he is sure to continue to be a popular character for years to come.\n",
            "Human: What is his power?\n",
            "AI Assistant: Gojo Satoru's power is known as \"Limitless,\" and it is one of the strongest techniques in the Jujutsu Kaisen universe. Limitless allows Gojo to manipulate space and time around him, creating a variety of powerful effects.\n",
            "\n",
            "One of the most notable aspects of Limitless is its ability to create an \"Infinity\" barrier around Gojo. This barrier is impenetrable, and it prevents any attacks from reaching him. Gojo can also use Limitless to teleport himself and others, and he can even use it to stop time for a brief period.\n",
            "\n",
            "In addition to its defensive capabilities, Limitless also grants Gojo a number of offensive abilities. He can use it to fire powerful blasts of energy, and he can also create powerful shockwaves by clapping his hands. Gojo is also a skilled swordsman, and he can use Limitless to enhance his swordsmanship.\n",
            "\n",
            "Overall, Limitless is an incredibly versatile and powerful technique that makes Gojo one of the strongest characters in Jujutsu Kaisen.\n",
            "Human: what is his clan name?\n",
            "AI Assistant:\n",
            "\u001b[0m\n",
            "\n",
            "\u001b[1m> Finished chain.\u001b[0m\n"
          ]
        },
        {
          "output_type": "execute_result",
          "data": {
            "text/plain": [
              "'Gojo Satoru does not belong to any clan in the Jujutsu Kaisen universe. He is a member of the Gojo family, but the Gojo family is not considered a clan in the traditional sense. The Gojo family is a group of powerful jujutsu sorcerers, but they do not have a formal structure or hierarchy.\\n\\nGojo Satoru is the head of the Gojo family, and he is considered to be one of the strongest jujutsu sorcerers in the world. He is also a teacher at Tokyo Jujutsu High, where he trains the next generation of jujutsu sorcerers.'"
            ],
            "application/vnd.google.colaboratory.intrinsic+json": {
              "type": "string"
            }
          },
          "metadata": {},
          "execution_count": 49
        }
      ]
    },
    {
      "cell_type": "code",
      "source": [],
      "metadata": {
        "id": "Qi1T-nSGZbhv"
      },
      "execution_count": null,
      "outputs": []
    }
  ]
}